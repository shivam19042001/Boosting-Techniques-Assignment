{
  "nbformat": 4,
  "nbformat_minor": 0,
  "metadata": {
    "colab": {
      "provenance": []
    },
    "kernelspec": {
      "name": "python3",
      "display_name": "Python 3"
    },
    "language_info": {
      "name": "python"
    }
  },
  "cells": [
    {
      "cell_type": "markdown",
      "source": [
        "#Theoretical"
      ],
      "metadata": {
        "id": "wU3pjPxXAcH1"
      }
    },
    {
      "cell_type": "markdown",
      "source": [
        "1.What is Boosting in Machine Learning"
      ],
      "metadata": {
        "id": "ah9X4StdAb_y"
      }
    },
    {
      "cell_type": "code",
      "source": [
        "\"\"\"\n",
        "Boosting is a machine learning technique that builds a powerful model by combining several simple models (usually decision trees).\n",
        " It trains these models one after another, with each new model focusing on the errors made by the ones before it. This process helps\n",
        "  improve accuracy by reducing both bias and variance.\n",
        "\"\"\""
      ],
      "metadata": {
        "id": "-kPBGHWDBKsp"
      },
      "execution_count": null,
      "outputs": []
    },
    {
      "cell_type": "markdown",
      "source": [
        "2.How does Boosting differ from Bagging"
      ],
      "metadata": {
        "id": "2lgUgbX9Ab5r"
      }
    },
    {
      "cell_type": "code",
      "source": [
        "\"\"\"\n",
        "Bagging builds several models independently and at the same time, then merges their outputs to improve accuracy — a common exampl\n",
        "is Random Forest. In contrast, Boosting builds models one after another, where each new model aims to correct the mistakes made by\n",
        "the previous ones — examples include AdaBoost and Gradient Boosting.\n",
        "\"\"\""
      ],
      "metadata": {
        "id": "OmfhFaoZBLRS"
      },
      "execution_count": null,
      "outputs": []
    },
    {
      "cell_type": "markdown",
      "source": [
        "3.What is the key idea behind AdaBoost"
      ],
      "metadata": {
        "id": "FZhCL03MAb0y"
      }
    },
    {
      "cell_type": "code",
      "source": [
        "\"\"\"\n",
        "AdaBoost (Adaptive Boosting) works by giving different weights to training samples, increasing the weight of those that were\n",
        "misclassified. It trains weak learners one after another, with each new model paying more attention to the errors made by\n",
        "the previous ones.\n",
        "\"\"\""
      ],
      "metadata": {
        "id": "Jsd1FGFoBLur"
      },
      "execution_count": null,
      "outputs": []
    },
    {
      "cell_type": "markdown",
      "source": [
        "4.Explain the working of AdaBoost with an example"
      ],
      "metadata": {
        "id": "QI14SEopAbwe"
      }
    },
    {
      "cell_type": "code",
      "source": [
        "\"\"\"\n",
        "AdaBoost begins by fitting a simple (weak) classifier to the data. In each round, it increases the weights of the incorrectly\n",
        "classified examples, making them more influential in training the next model. This cycle repeats, with each new model focusing\n",
        "more on the hard-to-classify points. The final prediction is made by combining all the weak models, giving more weight to the more accurate ones.\n",
        "\n",
        "Example: In a binary classification task, if a basic decision stump gets some samples wrong, those samples will carry more\n",
        "weight in the next round, guiding the next stump to focus on them.\n",
        "\"\"\""
      ],
      "metadata": {
        "id": "2PF0Ll1rBL_W"
      },
      "execution_count": null,
      "outputs": []
    },
    {
      "cell_type": "markdown",
      "source": [
        "5.What is Gradient Boosting, and how is it different from AdaBoost"
      ],
      "metadata": {
        "id": "6-31TGxZAbs3"
      }
    },
    {
      "cell_type": "code",
      "source": [
        "\"\"\"\n",
        "Gradient Boosting also builds models one after another, but rather than changing sample weights like AdaBoost, it\n",
        "improves performance by reducing the prediction errors (residuals) of the previous models. It does this using gradient\n",
        "descent to minimize a loss function. While AdaBoost mainly targets misclassified examples, Gradient Boosting focuses\n",
        "on correcting the numeric differences between actual and predicted values — making it especially effective for regression tasks.\n",
        "\"\"\""
      ],
      "metadata": {
        "id": "V1b3H5gEBMUg"
      },
      "execution_count": null,
      "outputs": []
    },
    {
      "cell_type": "markdown",
      "source": [
        "6.What is the loss function in Gradient Boosting"
      ],
      "metadata": {
        "id": "JhMlVZ3IAbow"
      }
    },
    {
      "cell_type": "code",
      "source": [
        "\"\"\"\n",
        "Gradient Boosting works by trying to reduce prediction errors from earlier models. It does this by building\n",
        "new models that learn to predict the mistakes (residuals) of the existing ones, gradually improving accuracy.\n",
        "The process aims to minimize a specific loss function, like Mean Squared Error for regression or Log Loss for\n",
        "classification, using techniques like gradient descent.\n",
        "\"\"\""
      ],
      "metadata": {
        "id": "xDXeszQ1BMqB"
      },
      "execution_count": null,
      "outputs": []
    },
    {
      "cell_type": "markdown",
      "source": [
        "7.How does XGBoost improve over traditional Gradient Boosting"
      ],
      "metadata": {
        "id": "zmHR3n9OAblN"
      }
    },
    {
      "cell_type": "code",
      "source": [
        "\"\"\"\n",
        "XGBoost (Extreme Gradient Boosting) enhances traditional Gradient Boosting with several powerful features:\n",
        "\n",
        "- It includes L1 and L2 regularization to help prevent overfitting and improve model generalization.\n",
        "\n",
        "- It can automatically manage missing values, so no need for manual imputation.\n",
        "\n",
        "- It supports parallel processing, making training much faster than standard boosting methods.\n",
        "\n",
        "- It uses efficient tree pruning, avoiding unnecessary splits and improving model performance.\n",
        "\"\"\""
      ],
      "metadata": {
        "id": "t4Uu9xlYBM9-"
      },
      "execution_count": null,
      "outputs": []
    },
    {
      "cell_type": "markdown",
      "source": [
        "8.What is the difference between XGBoost and CatBoost"
      ],
      "metadata": {
        "id": "LsG_zA68AbhL"
      }
    },
    {
      "cell_type": "code",
      "source": [
        "\"\"\"\n",
        "- XGBoost is a powerful and optimized version of Gradient Boosting designed to work well\n",
        "  with structured/tabular data and deliver fast, accurate results.\n",
        "- CatBoost is specially built to handle categorical (non-numeric) data effectively.\n",
        "  It automatically converts categories into numbers and boosts performance without needing\n",
        "  much manual preprocessing.\n",
        "\"\"\""
      ],
      "metadata": {
        "id": "-k2ctz36BNm2"
      },
      "execution_count": null,
      "outputs": []
    },
    {
      "cell_type": "markdown",
      "source": [
        "9.What are some real-world applications of Boosting techniques"
      ],
      "metadata": {
        "id": "X-pAuhsVAbdO"
      }
    },
    {
      "cell_type": "code",
      "source": [
        "\"\"\"\n",
        "- Finance – Boosting methods help identify fraud and evaluate credit risk.\n",
        "- Healthcare – Used for predicting diseases and assessing patient risk levels.\n",
        "- Marketing – Applied to predict customer churn and power recommendation engines.\n",
        "- Image Recognition – For example, AdaBoost is used in OpenCV for tasks like face detection.\n",
        "\"\"\""
      ],
      "metadata": {
        "id": "Ayge2HFmBN1d"
      },
      "execution_count": null,
      "outputs": []
    },
    {
      "cell_type": "markdown",
      "source": [
        "10.How does regularization help in XGBoost"
      ],
      "metadata": {
        "id": "-KWNystDAbX6"
      }
    },
    {
      "cell_type": "code",
      "source": [
        "\"\"\"\n",
        "-XGBoost applies L1 (Lasso) and L2 (Ridge) regularization techniques to reduce overfitting.\n",
        "These regularizations add penalties for model complexity, helping the model stay simple and perform\n",
        " better on new, unseen data.\n",
        "\"\"\""
      ],
      "metadata": {
        "id": "ulRkqn89BOKo"
      },
      "execution_count": null,
      "outputs": []
    },
    {
      "cell_type": "markdown",
      "source": [
        "11.What are some hyperparameters to tune in Gradient Boosting models"
      ],
      "metadata": {
        "id": "3jMfXnCSA-rX"
      }
    },
    {
      "cell_type": "code",
      "source": [
        "\"\"\"\n",
        "- Learning Rate (eta): Determines how much the model updates at each step — smaller values mean slower learning but better accuracy.\n",
        "- Number of Estimators (n_estimators): Sets how many trees the model builds — more trees can improve performance but increase training time.\n",
        "- Max Depth: Limits how deep each tree can grow — shallower trees help avoid overfitting.\n",
        "- Subsample: Specifies the portion of the data to use for each tree — helps improve model generalization by adding randomness.\n",
        "\"\"\""
      ],
      "metadata": {
        "id": "_Z4NSCwQBOth"
      },
      "execution_count": null,
      "outputs": []
    },
    {
      "cell_type": "markdown",
      "source": [
        "12.What is the concept of Feature Importance in Boosting"
      ],
      "metadata": {
        "id": "mEcERcLHA_RK"
      }
    },
    {
      "cell_type": "code",
      "source": [
        "\"\"\"\n",
        "- Boosting models measure feature importance based on how much each feature helps in minimizing prediction errors.\n",
        "This makes it easier to understand which features are most valuable and supports better feature selection.\n",
        "\"\"\""
      ],
      "metadata": {
        "id": "N0SQILhFBO65"
      },
      "execution_count": null,
      "outputs": []
    },
    {
      "cell_type": "markdown",
      "source": [
        "13.Why is CatBoost efficient for categorical data"
      ],
      "metadata": {
        "id": "C2RL8fIAA_un"
      }
    },
    {
      "cell_type": "code",
      "source": [
        "\"\"\"\n",
        "CatBoost is efficient for categorival data,because:\n",
        "- Uses a special technique called Ordered Boosting to prevent data leakage during training\n",
        "- Efficiently handles categorical features, so you don’t need to manually encode them\n",
        "- Manages missing values automatically, making it reliable even with incomplete or messy data\n",
        "\"\"\""
      ],
      "metadata": {
        "id": "hC94D3WEBPM4"
      },
      "execution_count": null,
      "outputs": []
    },
    {
      "cell_type": "markdown",
      "source": [
        "#Practical"
      ],
      "metadata": {
        "id": "hor49Fd1A_7a"
      }
    },
    {
      "cell_type": "code",
      "execution_count": 1,
      "metadata": {
        "colab": {
          "base_uri": "https://localhost:8080/"
        },
        "id": "ls289KCHAT2-",
        "outputId": "1804128b-7620-45a1-f08f-54fa53a82813"
      },
      "outputs": [
        {
          "output_type": "stream",
          "name": "stdout",
          "text": [
            "AdaBoost Classifier Accuracy: 0.93\n"
          ]
        }
      ],
      "source": [
        "#14.Train an AdaBoost Classifier on a sample dataset and print model accuracy\n",
        "\n",
        "from sklearn.ensemble import AdaBoostClassifier\n",
        "from sklearn.tree import DecisionTreeClassifier\n",
        "from sklearn.datasets import make_classification\n",
        "from sklearn.model_selection import train_test_split\n",
        "from sklearn.metrics import accuracy_score\n",
        "\n",
        "# Generate synthetic classification dataset\n",
        "features, labels = make_classification(n_samples=500, n_features=5, random_state=42)\n",
        "\n",
        "# Split the dataset into training and testing sets\n",
        "features_train, features_test, labels_train, labels_test = train_test_split(\n",
        "    features, labels, test_size=0.2, random_state=42\n",
        ")\n",
        "\n",
        "# Initialize AdaBoost with Decision Stump as base estimator\n",
        "adaboost_model = AdaBoostClassifier(\n",
        "    estimator=DecisionTreeClassifier(max_depth=1),\n",
        "    n_estimators=50,\n",
        "    random_state=42\n",
        ")\n",
        "\n",
        "# Train the AdaBoost model\n",
        "adaboost_model.fit(features_train, labels_train)\n",
        "\n",
        "# Predict and evaluate\n",
        "predictions = adaboost_model.predict(features_test)\n",
        "print(\"AdaBoost Classifier Accuracy:\", accuracy_score(labels_test, predictions))\n"
      ]
    },
    {
      "cell_type": "code",
      "source": [
        "#15.Train an AdaBoost Regressor and evaluate performance using Mean Absolute Error (MAE)\n",
        "\n",
        "from sklearn.ensemble import AdaBoostRegressor\n",
        "from sklearn.tree import DecisionTreeRegressor\n",
        "from sklearn.datasets import make_regression\n",
        "from sklearn.model_selection import train_test_split\n",
        "from sklearn.metrics import mean_absolute_error\n",
        "\n",
        "# Generate synthetic regression dataset\n",
        "features, targets = make_regression(n_samples=400, n_features=4, noise=0.2, random_state=42)\n",
        "\n",
        "# Split dataset into training and testing sets\n",
        "features_train, features_test, targets_train, targets_test = train_test_split(\n",
        "    features, targets, test_size=0.2, random_state=42\n",
        ")\n",
        "\n",
        "# Initialize AdaBoost Regressor with Decision Tree as base estimator\n",
        "regressor = AdaBoostRegressor(\n",
        "    estimator=DecisionTreeRegressor(max_depth=3),\n",
        "    n_estimators=50,\n",
        "    random_state=42\n",
        ")\n",
        "\n",
        "# Train the model\n",
        "regressor.fit(features_train, targets_train)\n",
        "\n",
        "# Predict and evaluate performance\n",
        "predicted_values = regressor.predict(features_test)\n",
        "print(\"AdaBoost Regressor MAE:\", mean_absolute_error(targets_test, predicted_values))\n"
      ],
      "metadata": {
        "colab": {
          "base_uri": "https://localhost:8080/"
        },
        "id": "T8hqZX3NBSem",
        "outputId": "59924821-1424-4b1f-e786-f9c9b7c1ca00"
      },
      "execution_count": 2,
      "outputs": [
        {
          "output_type": "stream",
          "name": "stdout",
          "text": [
            "AdaBoost Regressor MAE: 27.23116119869014\n"
          ]
        }
      ]
    },
    {
      "cell_type": "code",
      "source": [
        "#16.Train a Gradient Boosting Classifier on the Breast Cancer dataset and print feature importance\n",
        "\n",
        "from sklearn.ensemble import GradientBoostingClassifier\n",
        "from sklearn.datasets import load_breast_cancer\n",
        "from sklearn.model_selection import train_test_split\n",
        "\n",
        "# Load the breast cancer dataset\n",
        "breast_cancer_data = load_breast_cancer()\n",
        "features, targets = breast_cancer_data.data, breast_cancer_data.target\n",
        "\n",
        "# Split the dataset into training and testing sets\n",
        "features_train, features_test, targets_train, targets_test = train_test_split(\n",
        "    features, targets, test_size=0.2, random_state=42\n",
        ")\n",
        "\n",
        "# Initialize and train the Gradient Boosting Classifier\n",
        "gb_classifier = GradientBoostingClassifier(n_estimators=100, learning_rate=0.1, random_state=42)\n",
        "gb_classifier.fit(features_train, targets_train)\n",
        "\n",
        "# Print the feature importances\n",
        "print(\"Feature Importances:\", gb_classifier.feature_importances_)\n"
      ],
      "metadata": {
        "colab": {
          "base_uri": "https://localhost:8080/"
        },
        "id": "qBolcc90BSXD",
        "outputId": "0c5f802f-effa-402a-b81c-24b8dce30e4e"
      },
      "execution_count": 3,
      "outputs": [
        {
          "output_type": "stream",
          "name": "stdout",
          "text": [
            "Feature Importances: [1.29234808e-05 2.78045836e-02 2.01183642e-04 4.25403304e-04\n",
            " 2.46660446e-03 2.99604699e-03 9.22233287e-04 4.50527588e-01\n",
            " 5.19940461e-04 1.06691601e-04 6.87020789e-03 3.60401381e-03\n",
            " 1.15680237e-03 8.41527251e-03 5.56452892e-04 2.51063498e-03\n",
            " 1.30679228e-02 2.03810848e-03 7.02862580e-04 4.22393330e-03\n",
            " 7.55888752e-02 3.98864800e-02 5.14082111e-02 3.82446946e-02\n",
            " 4.81083076e-03 4.50121585e-04 1.87249757e-02 2.40103086e-01\n",
            " 1.47800843e-03 1.75306929e-04]\n"
          ]
        }
      ]
    },
    {
      "cell_type": "code",
      "source": [
        "#17.Train a Gradient Boosting Regressor and evaluate using R-Squared Score\n",
        "\n",
        "from sklearn.ensemble import GradientBoostingRegressor\n",
        "from sklearn.datasets import make_regression\n",
        "from sklearn.model_selection import train_test_split\n",
        "from sklearn.metrics import r2_score\n",
        "\n",
        "# Generate synthetic regression dataset\n",
        "features, targets = make_regression(n_samples=300, n_features=6, noise=0.3, random_state=42)\n",
        "\n",
        "# Split dataset into training and testing sets\n",
        "features_train, features_test, targets_train, targets_test = train_test_split(\n",
        "    features, targets, test_size=0.2, random_state=42\n",
        ")\n",
        "\n",
        "# Initialize and train the Gradient Boosting Regressor\n",
        "gb_regressor = GradientBoostingRegressor(n_estimators=100, learning_rate=0.1, random_state=42)\n",
        "gb_regressor.fit(features_train, targets_train)\n",
        "\n",
        "# Make predictions and evaluate using R² score\n",
        "predicted_targets = gb_regressor.predict(features_test)\n",
        "print(\"Gradient Boosting R2 Score:\", r2_score(targets_test, predicted_targets))\n"
      ],
      "metadata": {
        "colab": {
          "base_uri": "https://localhost:8080/"
        },
        "id": "O3jne2SXBSRI",
        "outputId": "799f4609-b6e6-4770-cd78-3e3cdd19bce5"
      },
      "execution_count": 4,
      "outputs": [
        {
          "output_type": "stream",
          "name": "stdout",
          "text": [
            "Gradient Boosting R2 Score: 0.9032347322366608\n"
          ]
        }
      ]
    },
    {
      "cell_type": "code",
      "source": [
        "#18.Train an XGBoost Classifier on a dataset and compare accuracy with Gradient Boosting\n",
        "\n",
        "from xgboost import XGBClassifier\n",
        "from sklearn.ensemble import GradientBoostingClassifier\n",
        "from sklearn.datasets import make_classification\n",
        "from sklearn.model_selection import train_test_split\n",
        "from sklearn.metrics import accuracy_score\n",
        "\n",
        "# Generate a synthetic classification dataset\n",
        "features, labels = make_classification(n_samples=500, n_features=6, random_state=42)\n",
        "\n",
        "# Split dataset into training and testing sets\n",
        "features_train, features_test, labels_train, labels_test = train_test_split(\n",
        "    features, labels, test_size=0.2, random_state=42\n",
        ")\n",
        "\n",
        "# Train XGBoost Classifier\n",
        "xgb_classifier = XGBClassifier(n_estimators=100, random_state=42)\n",
        "xgb_classifier.fit(features_train, labels_train)\n",
        "\n",
        "# Train Gradient Boosting Classifier\n",
        "gb_classifier = GradientBoostingClassifier(n_estimators=100, random_state=42)\n",
        "gb_classifier.fit(features_train, labels_train)\n",
        "\n",
        "# Evaluate and compare model accuracy\n",
        "xgb_accuracy = accuracy_score(labels_test, xgb_classifier.predict(features_test))\n",
        "gb_accuracy = accuracy_score(labels_test, gb_classifier.predict(features_test))\n",
        "\n",
        "# Print results\n",
        "print(\"XGBoost Accuracy:\", xgb_accuracy)\n",
        "print(\"Gradient Boosting Accuracy:\", gb_accuracy)\n"
      ],
      "metadata": {
        "colab": {
          "base_uri": "https://localhost:8080/"
        },
        "id": "q2hMOebKBSLq",
        "outputId": "d9834da6-54e0-4b27-f01e-5d1ac3f582a1"
      },
      "execution_count": 5,
      "outputs": [
        {
          "output_type": "stream",
          "name": "stdout",
          "text": [
            "XGBoost Accuracy: 0.91\n",
            "Gradient Boosting Accuracy: 0.94\n"
          ]
        }
      ]
    },
    {
      "cell_type": "code",
      "source": [
        "!pip install -q catboost\n"
      ],
      "metadata": {
        "colab": {
          "base_uri": "https://localhost:8080/"
        },
        "id": "txJD8VI_Eeu-",
        "outputId": "f281305a-778a-47de-bd8c-9742d7797527"
      },
      "execution_count": 7,
      "outputs": [
        {
          "output_type": "stream",
          "name": "stdout",
          "text": [
            "\u001b[2K   \u001b[90m━━━━━━━━━━━━━━━━━━━━━━━━━━━━━━━━━━━━━━━━\u001b[0m \u001b[32m99.2/99.2 MB\u001b[0m \u001b[31m9.0 MB/s\u001b[0m eta \u001b[36m0:00:00\u001b[0m\n",
            "\u001b[?25h"
          ]
        }
      ]
    },
    {
      "cell_type": "code",
      "source": [
        "#19.Train a CatBoost Classifier and evaluate using F1-Score\n",
        "\n",
        "from catboost import CatBoostClassifier\n",
        "from sklearn.datasets import make_classification\n",
        "from sklearn.model_selection import train_test_split\n",
        "from sklearn.metrics import f1_score\n",
        "\n",
        "# Generate synthetic classification dataset\n",
        "features, labels = make_classification(n_samples=400, n_features=5, random_state=42)\n",
        "\n",
        "# Split dataset into training and testing sets\n",
        "features_train, features_test, labels_train, labels_test = train_test_split(\n",
        "    features, labels, test_size=0.2, random_state=42\n",
        ")\n",
        "\n",
        "# Initialize and train CatBoost Classifier\n",
        "catboost_model = CatBoostClassifier(iterations=100, verbose=0)\n",
        "catboost_model.fit(features_train, labels_train)\n",
        "\n",
        "# Make predictions and evaluate using F1 Score\n",
        "predicted_labels = catboost_model.predict(features_test)\n",
        "print(\"CatBoost F1 Score:\", f1_score(labels_test, predicted_labels))\n"
      ],
      "metadata": {
        "colab": {
          "base_uri": "https://localhost:8080/"
        },
        "id": "xx9EITQjBSGa",
        "outputId": "3284edbd-32d2-4d17-ee96-724b06f18308"
      },
      "execution_count": 9,
      "outputs": [
        {
          "output_type": "stream",
          "name": "stdout",
          "text": [
            "CatBoost F1 Score: 0.926829268292683\n"
          ]
        }
      ]
    },
    {
      "cell_type": "code",
      "source": [
        "#20.Train an XGBoost Regressor and evaluate using Mean Squared Error (MSE)\n",
        "\n",
        "from xgboost import XGBRegressor\n",
        "from sklearn.datasets import make_regression\n",
        "from sklearn.model_selection import train_test_split\n",
        "from sklearn.metrics import mean_squared_error\n",
        "\n",
        "# Generate synthetic regression dataset\n",
        "features, targets = make_regression(n_samples=350, n_features=4, noise=0.2, random_state=42)\n",
        "\n",
        "# Split dataset into training and testing sets\n",
        "features_train, features_test, targets_train, targets_test = train_test_split(\n",
        "    features, targets, test_size=0.2, random_state=42\n",
        ")\n",
        "\n",
        "# Initialize and train XGBoost Regressor\n",
        "xgb_regressor = XGBRegressor(n_estimators=100, random_state=42)\n",
        "xgb_regressor.fit(features_train, targets_train)\n",
        "\n",
        "# Predict and evaluate using Mean Squared Error\n",
        "predictions = xgb_regressor.predict(features_test)\n",
        "print(\"XGBoost Regressor MSE:\", mean_squared_error(targets_test, predictions))\n"
      ],
      "metadata": {
        "colab": {
          "base_uri": "https://localhost:8080/"
        },
        "id": "4lYLCoX_BSBX",
        "outputId": "64e72f8b-9159-4346-ade5-403e39acdaa8"
      },
      "execution_count": 10,
      "outputs": [
        {
          "output_type": "stream",
          "name": "stdout",
          "text": [
            "XGBoost Regressor MSE: 174.3476966379117\n"
          ]
        }
      ]
    },
    {
      "cell_type": "code",
      "source": [
        "#21.Train an AdaBoost Classifier and visualize feature importance\n",
        "\n",
        "import matplotlib.pyplot as plt\n",
        "from sklearn.ensemble import AdaBoostClassifier\n",
        "from sklearn.tree import DecisionTreeClassifier\n",
        "from sklearn.datasets import make_classification\n",
        "from sklearn.model_selection import train_test_split\n",
        "\n",
        "# Generate synthetic classification dataset\n",
        "features, labels = make_classification(n_samples=500, n_features=6, random_state=42)\n",
        "\n",
        "# Split dataset into training and testing sets\n",
        "features_train, features_test, labels_train, labels_test = train_test_split(\n",
        "    features, labels, test_size=0.2, random_state=42\n",
        ")\n",
        "\n",
        "# Initialize and train AdaBoost Classifier with decision stumps\n",
        "adaboost_model = AdaBoostClassifier(\n",
        "    estimator=DecisionTreeClassifier(max_depth=1),\n",
        "    n_estimators=50,\n",
        "    random_state=42\n",
        ")\n",
        "adaboost_model.fit(features_train, labels_train)\n",
        "\n",
        "# Plot feature importance\n",
        "plt.bar(range(features.shape[1]), adaboost_model.feature_importances_)\n",
        "plt.xlabel(\"Feature Index\")\n",
        "plt.ylabel(\"Importance\")\n",
        "plt.title(\"Feature Importance - AdaBoost\")\n",
        "plt.show()\n"
      ],
      "metadata": {
        "colab": {
          "base_uri": "https://localhost:8080/",
          "height": 472
        },
        "id": "RzfsquRYBR8p",
        "outputId": "23dfc8ab-e3a5-403b-a6e1-298623ef4cd0"
      },
      "execution_count": 11,
      "outputs": [
        {
          "output_type": "display_data",
          "data": {
            "text/plain": [
              "<Figure size 640x480 with 1 Axes>"
            ],
            "image/png": "[encoded data removed]"
          },
          "metadata": {}
        }
      ]
    },
    {
      "cell_type": "code",
      "source": [
        "#22.Train a Gradient Boosting Regressor and plot learning curves\n",
        "\n",
        "import matplotlib.pyplot as plt\n",
        "from sklearn.ensemble import GradientBoostingRegressor\n",
        "from sklearn.datasets import make_regression\n",
        "from sklearn.model_selection import train_test_split\n",
        "\n",
        "# Generate synthetic regression dataset\n",
        "features, targets = make_regression(n_samples=400, n_features=5, noise=0.3, random_state=42)\n",
        "\n",
        "# Split dataset into training and testing sets\n",
        "features_train, features_test, targets_train, targets_test = train_test_split(\n",
        "    features, targets, test_size=0.2, random_state=42\n",
        ")\n",
        "\n",
        "# Initialize and train Gradient Boosting Regressor\n",
        "gbr_model = GradientBoostingRegressor(n_estimators=100, learning_rate=0.1, random_state=42)\n",
        "gbr_model.fit(features_train, targets_train)\n",
        "\n",
        "# Plot learning curve (training loss per iteration)\n",
        "plt.plot(gbr_model.train_score_, label=\"Training Loss\")\n",
        "plt.xlabel(\"Iterations\")\n",
        "plt.ylabel(\"Loss\")\n",
        "plt.title(\"Gradient Boosting Learning Curve\")\n",
        "plt.legend()\n",
        "plt.show()\n"
      ],
      "metadata": {
        "colab": {
          "base_uri": "https://localhost:8080/",
          "height": 472
        },
        "id": "RZWt9R3kBRbJ",
        "outputId": "3b376b13-06c0-4c5e-93da-8adeae5c90af"
      },
      "execution_count": 12,
      "outputs": [
        {
          "output_type": "display_data",
          "data": {
            "text/plain": [
              "<Figure size 640x480 with 1 Axes>"
            ],
            "image/png": "[encoded data removed]"
          },
          "metadata": {}
        }
      ]
    },
    {
      "cell_type": "code",
      "source": [
        "#23.Train an XGBoost Classifier and visualize feature importance\n",
        "\n",
        "import matplotlib.pyplot as plt\n",
        "from xgboost import XGBClassifier\n",
        "from sklearn.datasets import make_classification\n",
        "from sklearn.model_selection import train_test_split\n",
        "\n",
        "# Generate synthetic classification dataset\n",
        "features, labels = make_classification(n_samples=400, n_features=6, random_state=42)\n",
        "\n",
        "# Split dataset into training and testing sets\n",
        "features_train, features_test, labels_train, labels_test = train_test_split(\n",
        "    features, labels, test_size=0.2, random_state=42\n",
        ")\n",
        "\n",
        "# Initialize and train XGBoost Classifier\n",
        "xgb_classifier = XGBClassifier(n_estimators=100, random_state=42)\n",
        "xgb_classifier.fit(features_train, labels_train)\n",
        "\n",
        "# Plot feature importance\n",
        "plt.bar(range(features.shape[1]), xgb_classifier.feature_importances_)\n",
        "plt.xlabel(\"Feature Index\")\n",
        "plt.ylabel(\"Importance\")\n",
        "plt.title(\"Feature Importance - XGBoost\")\n",
        "plt.show()\n"
      ],
      "metadata": {
        "colab": {
          "base_uri": "https://localhost:8080/",
          "height": 472
        },
        "id": "a6qE8LIoBRUm",
        "outputId": "121fb9bf-d1c6-48cb-ff5c-bca3f7a87b90"
      },
      "execution_count": 13,
      "outputs": [
        {
          "output_type": "display_data",
          "data": {
            "text/plain": [
              "<Figure size 640x480 with 1 Axes>"
            ],
            "image/png": "[encoded data removed]"
          },
          "metadata": {}
        }
      ]
    },
    {
      "cell_type": "code",
      "source": [
        "#24.Train a CatBoost Classifier and plot the confusion matrix\n",
        "\n",
        "import matplotlib.pyplot as plt\n",
        "import seaborn as sns\n",
        "from catboost import CatBoostClassifier\n",
        "from sklearn.datasets import make_classification\n",
        "from sklearn.model_selection import train_test_split\n",
        "from sklearn.metrics import confusion_matrix\n",
        "\n",
        "# Generate synthetic classification dataset\n",
        "features, labels = make_classification(n_samples=500, n_features=5, random_state=42)\n",
        "\n",
        "# Split dataset into training and testing sets\n",
        "features_train, features_test, labels_train, labels_test = train_test_split(\n",
        "    features, labels, test_size=0.2, random_state=42\n",
        ")\n",
        "\n",
        "# Train CatBoost Classifier\n",
        "catboost_model = CatBoostClassifier(iterations=100, verbose=0)\n",
        "catboost_model.fit(features_train, labels_train)\n",
        "\n",
        "# Make predictions\n",
        "predicted_labels = catboost_model.predict(features_test)\n",
        "\n",
        "# Compute confusion matrix\n",
        "conf_matrix = confusion_matrix(labels_test, predicted_labels)\n",
        "\n",
        "# Plot confusion matrix\n",
        "sns.heatmap(conf_matrix, annot=True, fmt=\"d\", cmap=\"Blues\")\n",
        "plt.xlabel(\"Predicted Label\")\n",
        "plt.ylabel(\"True Label\")\n",
        "plt.title(\"Confusion Matrix - CatBoost\")\n",
        "plt.show()\n"
      ],
      "metadata": {
        "colab": {
          "base_uri": "https://localhost:8080/",
          "height": 472
        },
        "id": "MeAOBDI1BRPU",
        "outputId": "de3a225e-2b84-46af-b5c5-562e7aecb93c"
      },
      "execution_count": 14,
      "outputs": [
        {
          "output_type": "display_data",
          "data": {
            "text/plain": [
              "<Figure size 640x480 with 2 Axes>"
            ],
            "image/png": "[encoded data removed]"
          },
          "metadata": {}
        }
      ]
    },
    {
      "cell_type": "code",
      "source": [
        "#25.Train an AdaBoost Classifier with different numbers of estimators and compare accuracy\n",
        "\n",
        "import matplotlib.pyplot as plt\n",
        "from sklearn.ensemble import AdaBoostClassifier\n",
        "from sklearn.tree import DecisionTreeClassifier\n",
        "from sklearn.datasets import make_classification\n",
        "from sklearn.model_selection import train_test_split\n",
        "from sklearn.metrics import accuracy_score\n",
        "\n",
        "# Generate synthetic classification dataset\n",
        "features, labels = make_classification(n_samples=500, n_features=6, random_state=42)\n",
        "\n",
        "# Split dataset into training and testing sets\n",
        "features_train, features_test, labels_train, labels_test = train_test_split(\n",
        "    features, labels, test_size=0.2, random_state=42\n",
        ")\n",
        "\n",
        "# Define different numbers of estimators to test\n",
        "num_estimators_list = [10, 50, 100]\n",
        "accuracy_scores = []\n",
        "\n",
        "# Train AdaBoost models with different estimator counts\n",
        "for estimator_count in num_estimators_list:\n",
        "    ada_model = AdaBoostClassifier(\n",
        "        estimator=DecisionTreeClassifier(max_depth=1),\n",
        "        n_estimators=estimator_count,\n",
        "        random_state=42\n",
        "    )\n",
        "    ada_model.fit(features_train, labels_train)\n",
        "    predicted_labels = ada_model.predict(features_test)\n",
        "    accuracy = accuracy_score(labels_test, predicted_labels)\n",
        "    accuracy_scores.append(accuracy)\n",
        "\n",
        "# Plot number of estimators vs. accuracy\n",
        "plt.plot(num_estimators_list, accuracy_scores, marker=\"o\")\n",
        "plt.xlabel(\"Number of Estimators\")\n",
        "plt.ylabel(\"Accuracy\")\n",
        "plt.title(\"Effect of Estimators on AdaBoost Accuracy\")\n",
        "plt.show()\n"
      ],
      "metadata": {
        "colab": {
          "base_uri": "https://localhost:8080/",
          "height": 472
        },
        "id": "N3_NnuM3BRKW",
        "outputId": "cafcf05a-c8e1-44df-da53-f9307bd4530f"
      },
      "execution_count": 15,
      "outputs": [
        {
          "output_type": "display_data",
          "data": {
            "text/plain": [
              "<Figure size 640x480 with 1 Axes>"
            ],
            "image/png": "[encoded data removed]"
          },
          "metadata": {}
        }
      ]
    },
    {
      "cell_type": "code",
      "source": [
        "#26.Train a Gradient Boosting Classifier and visualize the ROC curve\n",
        "\n",
        "import matplotlib.pyplot as plt\n",
        "from sklearn.ensemble import GradientBoostingClassifier\n",
        "from sklearn.datasets import make_classification\n",
        "from sklearn.model_selection import train_test_split\n",
        "from sklearn.metrics import roc_curve, auc\n",
        "\n",
        "# Generate synthetic dataset\n",
        "features, labels = make_classification(n_samples=500, n_features=6, random_state=42)\n",
        "\n",
        "# Split dataset into training and testing sets\n",
        "features_train, features_test, labels_train, labels_test = train_test_split(\n",
        "    features, labels, test_size=0.2, random_state=42\n",
        ")\n",
        "\n",
        "# Train Gradient Boosting Classifier\n",
        "gb_classifier = GradientBoostingClassifier(n_estimators=100, random_state=42)\n",
        "gb_classifier.fit(features_train, labels_train)\n",
        "\n",
        "# Compute predicted probabilities for ROC curve\n",
        "predicted_probabilities = gb_classifier.predict_proba(features_test)[:, 1]\n",
        "false_positive_rate, true_positive_rate, _ = roc_curve(labels_test, predicted_probabilities)\n",
        "roc_auc_score = auc(false_positive_rate, true_positive_rate)\n",
        "\n",
        "# Plot ROC curve\n",
        "plt.plot(false_positive_rate, true_positive_rate, label=f\"AUC = {roc_auc_score:.2f}\")\n",
        "plt.xlabel(\"False Positive Rate\")\n",
        "plt.ylabel(\"True Positive Rate\")\n",
        "plt.title(\"ROC Curve - Gradient Boosting\")\n",
        "plt.legend()\n",
        "plt.show()\n"
      ],
      "metadata": {
        "colab": {
          "base_uri": "https://localhost:8080/",
          "height": 472
        },
        "id": "fA6xDTViBRFK",
        "outputId": "b304d189-3d94-4180-8430-dcf52a91f246"
      },
      "execution_count": 16,
      "outputs": [
        {
          "output_type": "display_data",
          "data": {
            "text/plain": [
              "<Figure size 640x480 with 1 Axes>"
            ],
            "image/png": "[encoded data removed]"
          },
          "metadata": {}
        }
      ]
    },
    {
      "cell_type": "code",
      "source": [
        "#27.Train an XGBoost Regressor and tune the learning rate using GridSearchCV\n",
        "\n",
        "from xgboost import XGBRegressor\n",
        "from sklearn.datasets import make_regression\n",
        "from sklearn.model_selection import train_test_split, GridSearchCV\n",
        "\n",
        "# Generate synthetic regression dataset\n",
        "features, targets = make_regression(n_samples=350, n_features=5, noise=0.2, random_state=42)\n",
        "\n",
        "# Split dataset into training and testing sets\n",
        "features_train, features_test, targets_train, targets_test = train_test_split(\n",
        "    features, targets, test_size=0.2, random_state=42\n",
        ")\n",
        "\n",
        "# Define hyperparameter grid for tuning\n",
        "hyperparameter_grid = {'learning_rate': [0.01, 0.1, 0.2]}\n",
        "\n",
        "# Set up GridSearchCV with XGBRegressor\n",
        "regressor_grid_search = GridSearchCV(\n",
        "    XGBRegressor(n_estimators=100, random_state=42),\n",
        "    hyperparameter_grid,\n",
        "    cv=3\n",
        ")\n",
        "\n",
        "# Fit the model on training data\n",
        "regressor_grid_search.fit(features_train, targets_train)\n",
        "\n",
        "# Output best learning rate\n",
        "print(\"Best Learning Rate:\", regressor_grid_search.best_params_['learning_rate'])\n"
      ],
      "metadata": {
        "colab": {
          "base_uri": "https://localhost:8080/"
        },
        "id": "AwWbWNztBRAE",
        "outputId": "ec5712c0-5d1d-4ce6-f9ea-192de3e6003e"
      },
      "execution_count": 17,
      "outputs": [
        {
          "output_type": "stream",
          "name": "stdout",
          "text": [
            "Best Learning Rate: 0.2\n"
          ]
        }
      ]
    },
    {
      "cell_type": "code",
      "source": [
        "#28. Train a CatBoost Classifier on an imbalanced dataset and compare performance with class weighting\n",
        "\n",
        "import numpy as np\n",
        "import matplotlib.pyplot as plt\n",
        "from catboost import CatBoostClassifier\n",
        "from sklearn.datasets import make_classification\n",
        "from sklearn.model_selection import train_test_split\n",
        "from sklearn.metrics import accuracy_score, f1_score\n",
        "\n",
        "# Generate imbalanced dataset\n",
        "features, labels = make_classification(\n",
        "    n_samples=1000, n_features=6, weights=[0.9, 0.1], random_state=42\n",
        ")\n",
        "\n",
        "# Split dataset\n",
        "features_train, features_test, labels_train, labels_test = train_test_split(\n",
        "    features, labels, test_size=0.2, random_state=42\n",
        ")\n",
        "\n",
        "# Train CatBoost Classifier without class weights\n",
        "catboost_model_plain = CatBoostClassifier(iterations=100, verbose=0)\n",
        "catboost_model_plain.fit(features_train, labels_train)\n",
        "predictions_plain = catboost_model_plain.predict(features_test)\n",
        "\n",
        "# Train CatBoost Classifier with class weights\n",
        "catboost_model_weighted = CatBoostClassifier(iterations=100, class_weights=[1, 10], verbose=0)\n",
        "catboost_model_weighted.fit(features_train, labels_train)\n",
        "predictions_weighted = catboost_model_weighted.predict(features_test)\n",
        "\n",
        "# Compare F1-Scores\n",
        "print(\"CatBoost F1 Score (No Class Weights):\", f1_score(labels_test, predictions_plain))\n",
        "print(\"CatBoost F1 Score (With Class Weights):\", f1_score(labels_test, predictions_weighted))\n"
      ],
      "metadata": {
        "colab": {
          "base_uri": "https://localhost:8080/"
        },
        "id": "pExC6t20BQ7T",
        "outputId": "1093f591-e22b-4cf1-9192-80e4d471e571"
      },
      "execution_count": 18,
      "outputs": [
        {
          "output_type": "stream",
          "name": "stdout",
          "text": [
            "CatBoost F1 Score (No Class Weights): 0.75\n",
            "CatBoost F1 Score (With Class Weights): 0.6842105263157895\n"
          ]
        }
      ]
    },
    {
      "cell_type": "code",
      "source": [
        "#29.Train an AdaBoost Classifier and analyze the effect of different learning rates\n",
        "\n",
        "import matplotlib.pyplot as plt\n",
        "from sklearn.ensemble import AdaBoostClassifier\n",
        "from sklearn.tree import DecisionTreeClassifier\n",
        "from sklearn.datasets import make_classification\n",
        "from sklearn.model_selection import train_test_split\n",
        "from sklearn.metrics import accuracy_score\n",
        "\n",
        "# Generate synthetic classification dataset\n",
        "features, targets = make_classification(n_samples=500, n_features=6, random_state=42)\n",
        "\n",
        "# Split dataset into training and test sets\n",
        "features_train, features_test, targets_train, targets_test = train_test_split(\n",
        "    features, targets, test_size=0.2, random_state=42\n",
        ")\n",
        "\n",
        "# Evaluate AdaBoost performance across different learning rates\n",
        "rate_list = [0.01, 0.1, 0.5, 1.0]\n",
        "accuracy_scores = []\n",
        "\n",
        "for rate in rate_list:\n",
        "    adaboost_model = AdaBoostClassifier(\n",
        "        estimator=DecisionTreeClassifier(max_depth=1),\n",
        "        n_estimators=50,\n",
        "        learning_rate=rate,\n",
        "        random_state=42\n",
        "    )\n",
        "    adaboost_model.fit(features_train, targets_train)\n",
        "    predictions = adaboost_model.predict(features_test)\n",
        "    accuracy = accuracy_score(targets_test, predictions)\n",
        "    accuracy_scores.append(accuracy)\n",
        "\n",
        "# Plot learning rate vs. accuracy\n",
        "plt.plot(rate_list, accuracy_scores, marker=\"o\")\n",
        "plt.xlabel(\"Learning Rate\")\n",
        "plt.ylabel(\"Accuracy\")\n",
        "plt.title(\"Effect of Learning Rate on AdaBoost Accuracy\")\n",
        "plt.grid(True)\n",
        "plt.show()\n"
      ],
      "metadata": {
        "colab": {
          "base_uri": "https://localhost:8080/",
          "height": 472
        },
        "id": "-bjy_S8QBQ0z",
        "outputId": "b3392437-899f-475d-ac1b-ec5e5a71211d"
      },
      "execution_count": 19,
      "outputs": [
        {
          "output_type": "display_data",
          "data": {
            "text/plain": [
              "<Figure size 640x480 with 1 Axes>"
            ],
            "image/png": "[encoded data removed]"
          },
          "metadata": {}
        }
      ]
    },
    {
      "cell_type": "code",
      "source": [
        "#30.Train an XGBoost Classifier for multi-class classification and evaluate using log-loss\n",
        "\n",
        "from xgboost import XGBClassifier\n",
        "from sklearn.datasets import make_classification\n",
        "from sklearn.model_selection import train_test_split\n",
        "from sklearn.metrics import log_loss\n",
        "\n",
        "# Generate synthetic multi-class classification dataset\n",
        "features, labels = make_classification(\n",
        "    n_samples=600,\n",
        "    n_features=6,\n",
        "    n_classes=3,\n",
        "    n_informative=4,\n",
        "    random_state=42\n",
        ")\n",
        "\n",
        "# Split dataset into training and testing sets\n",
        "features_train, features_test, labels_train, labels_test = train_test_split(\n",
        "    features, labels, test_size=0.2, random_state=42\n",
        ")\n",
        "\n",
        "# Train XGBoost classifier for multi-class classification\n",
        "xgb_model = XGBClassifier(n_estimators=100, objective=\"multi:softprob\", random_state=42)\n",
        "xgb_model.fit(features_train, labels_train)\n",
        "\n",
        "# Predict class probabilities and compute log loss\n",
        "predicted_probabilities = xgb_model.predict_proba(features_test)\n",
        "print(\"XGBoost Log Loss:\", log_loss(labels_test, predicted_probabilities))\n"
      ],
      "metadata": {
        "colab": {
          "base_uri": "https://localhost:8080/"
        },
        "id": "s_6psREuBQuG",
        "outputId": "a3fba632-9b7f-4eb5-8636-4a2ff2995b40"
      },
      "execution_count": 20,
      "outputs": [
        {
          "output_type": "stream",
          "name": "stdout",
          "text": [
            "XGBoost Log Loss: 0.35812071647553145\n"
          ]
        }
      ]
    },
    {
      "cell_type": "code",
      "source": [],
      "metadata": {
        "id": "Zy-F2tTWGxBR"
      },
      "execution_count": null,
      "outputs": []
    }
  ]
}